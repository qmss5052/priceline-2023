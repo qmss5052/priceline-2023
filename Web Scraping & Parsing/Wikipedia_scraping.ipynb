{
  "nbformat": 4,
  "nbformat_minor": 0,
  "metadata": {
    "colab": {
      "provenance": []
    },
    "kernelspec": {
      "name": "python3",
      "display_name": "Python 3"
    },
    "language_info": {
      "name": "python"
    }
  },
  "cells": [
    {
      "cell_type": "code",
      "execution_count": null,
      "metadata": {
        "colab": {
          "base_uri": "https://localhost:8080/"
        },
        "id": "9NcbGyHwMl4h",
        "outputId": "8d2a99d2-28fe-47f6-90cc-b8c7993c9f87"
      },
      "outputs": [
        {
          "output_type": "stream",
          "name": "stdout",
          "text": [
            "Mounted at /content/drive\n"
          ]
        }
      ],
      "source": [
        "# Connect to Google Drive\n",
        "from google.colab import drive\n",
        "drive.mount('/content/drive')"
      ]
    },
    {
      "cell_type": "code",
      "source": [
        "# Import libraries\n",
        "import requests\n",
        "import pandas as pd\n",
        "import csv\n",
        "import re\n",
        "import string\n",
        "import nltk\n",
        "\n",
        "from bs4 import BeautifulSoup\n",
        "from numpy import NAN\n",
        "from nltk.stem import WordNetLemmatizer"
      ],
      "metadata": {
        "id": "UaYeJzsbOVFp"
      },
      "execution_count": null,
      "outputs": []
    },
    {
      "cell_type": "code",
      "source": [
        "# Define a user agent to qualify request\n",
        "user_agent = ({\"User-Agent\":\n",
        "                    \"Mozilla/5.0 (Windows NT 10.0; Win64; x64) \\\n",
        "                    AppleWebKit/537.36 (KHTML, like Gecko) \\\n",
        "                    Chrome/90.0.4430.212 Safari/537.36\",\n",
        "               \"Accept-Language\": \"en-US, en;q=0.5\"})"
      ],
      "metadata": {
        "id": "x8OPNI7SOi0k"
      },
      "execution_count": null,
      "outputs": []
    },
    {
      "cell_type": "code",
      "source": [
        "# Read in the csv file with wikipedia links for each observation\n",
        "wk = pd.read_csv(\"/content/drive/MyDrive/Priceline/JintongYu/wiki_links.csv\", usecols=['city_name', 'wiki_link'])"
      ],
      "metadata": {
        "id": "GUKxXWHHokdo"
      },
      "execution_count": null,
      "outputs": []
    },
    {
      "cell_type": "code",
      "source": [
        "wk.head()"
      ],
      "metadata": {
        "id": "c7h6L4IwpDId",
        "colab": {
          "base_uri": "https://localhost:8080/",
          "height": 206
        },
        "outputId": "a2b756b8-f13a-4a8a-c6f0-9627f7982b5d"
      },
      "execution_count": null,
      "outputs": [
        {
          "output_type": "execute_result",
          "data": {
            "text/plain": [
              "   city_name                                wiki_link\n",
              "0       ROME       https://en.wikipedia.org/wiki/Rome\n",
              "1  BARCELONA  https://en.wikipedia.org/wiki/Barcelona\n",
              "2   ISTANBUL   https://en.wikipedia.org/wiki/Istanbul\n",
              "3      MILAN      https://en.wikipedia.org/wiki/Milan\n",
              "4   FLORENCE   https://en.wikipedia.org/wiki/Florence"
            ],
            "text/html": [
              "\n",
              "  <div id=\"df-65ef819f-4913-4a20-b09b-ba1496475628\">\n",
              "    <div class=\"colab-df-container\">\n",
              "      <div>\n",
              "<style scoped>\n",
              "    .dataframe tbody tr th:only-of-type {\n",
              "        vertical-align: middle;\n",
              "    }\n",
              "\n",
              "    .dataframe tbody tr th {\n",
              "        vertical-align: top;\n",
              "    }\n",
              "\n",
              "    .dataframe thead th {\n",
              "        text-align: right;\n",
              "    }\n",
              "</style>\n",
              "<table border=\"1\" class=\"dataframe\">\n",
              "  <thead>\n",
              "    <tr style=\"text-align: right;\">\n",
              "      <th></th>\n",
              "      <th>city_name</th>\n",
              "      <th>wiki_link</th>\n",
              "    </tr>\n",
              "  </thead>\n",
              "  <tbody>\n",
              "    <tr>\n",
              "      <th>0</th>\n",
              "      <td>ROME</td>\n",
              "      <td>https://en.wikipedia.org/wiki/Rome</td>\n",
              "    </tr>\n",
              "    <tr>\n",
              "      <th>1</th>\n",
              "      <td>BARCELONA</td>\n",
              "      <td>https://en.wikipedia.org/wiki/Barcelona</td>\n",
              "    </tr>\n",
              "    <tr>\n",
              "      <th>2</th>\n",
              "      <td>ISTANBUL</td>\n",
              "      <td>https://en.wikipedia.org/wiki/Istanbul</td>\n",
              "    </tr>\n",
              "    <tr>\n",
              "      <th>3</th>\n",
              "      <td>MILAN</td>\n",
              "      <td>https://en.wikipedia.org/wiki/Milan</td>\n",
              "    </tr>\n",
              "    <tr>\n",
              "      <th>4</th>\n",
              "      <td>FLORENCE</td>\n",
              "      <td>https://en.wikipedia.org/wiki/Florence</td>\n",
              "    </tr>\n",
              "  </tbody>\n",
              "</table>\n",
              "</div>\n",
              "      <button class=\"colab-df-convert\" onclick=\"convertToInteractive('df-65ef819f-4913-4a20-b09b-ba1496475628')\"\n",
              "              title=\"Convert this dataframe to an interactive table.\"\n",
              "              style=\"display:none;\">\n",
              "        \n",
              "  <svg xmlns=\"http://www.w3.org/2000/svg\" height=\"24px\"viewBox=\"0 0 24 24\"\n",
              "       width=\"24px\">\n",
              "    <path d=\"M0 0h24v24H0V0z\" fill=\"none\"/>\n",
              "    <path d=\"M18.56 5.44l.94 2.06.94-2.06 2.06-.94-2.06-.94-.94-2.06-.94 2.06-2.06.94zm-11 1L8.5 8.5l.94-2.06 2.06-.94-2.06-.94L8.5 2.5l-.94 2.06-2.06.94zm10 10l.94 2.06.94-2.06 2.06-.94-2.06-.94-.94-2.06-.94 2.06-2.06.94z\"/><path d=\"M17.41 7.96l-1.37-1.37c-.4-.4-.92-.59-1.43-.59-.52 0-1.04.2-1.43.59L10.3 9.45l-7.72 7.72c-.78.78-.78 2.05 0 2.83L4 21.41c.39.39.9.59 1.41.59.51 0 1.02-.2 1.41-.59l7.78-7.78 2.81-2.81c.8-.78.8-2.07 0-2.86zM5.41 20L4 18.59l7.72-7.72 1.47 1.35L5.41 20z\"/>\n",
              "  </svg>\n",
              "      </button>\n",
              "      \n",
              "  <style>\n",
              "    .colab-df-container {\n",
              "      display:flex;\n",
              "      flex-wrap:wrap;\n",
              "      gap: 12px;\n",
              "    }\n",
              "\n",
              "    .colab-df-convert {\n",
              "      background-color: #E8F0FE;\n",
              "      border: none;\n",
              "      border-radius: 50%;\n",
              "      cursor: pointer;\n",
              "      display: none;\n",
              "      fill: #1967D2;\n",
              "      height: 32px;\n",
              "      padding: 0 0 0 0;\n",
              "      width: 32px;\n",
              "    }\n",
              "\n",
              "    .colab-df-convert:hover {\n",
              "      background-color: #E2EBFA;\n",
              "      box-shadow: 0px 1px 2px rgba(60, 64, 67, 0.3), 0px 1px 3px 1px rgba(60, 64, 67, 0.15);\n",
              "      fill: #174EA6;\n",
              "    }\n",
              "\n",
              "    [theme=dark] .colab-df-convert {\n",
              "      background-color: #3B4455;\n",
              "      fill: #D2E3FC;\n",
              "    }\n",
              "\n",
              "    [theme=dark] .colab-df-convert:hover {\n",
              "      background-color: #434B5C;\n",
              "      box-shadow: 0px 1px 3px 1px rgba(0, 0, 0, 0.15);\n",
              "      filter: drop-shadow(0px 1px 2px rgba(0, 0, 0, 0.3));\n",
              "      fill: #FFFFFF;\n",
              "    }\n",
              "  </style>\n",
              "\n",
              "      <script>\n",
              "        const buttonEl =\n",
              "          document.querySelector('#df-65ef819f-4913-4a20-b09b-ba1496475628 button.colab-df-convert');\n",
              "        buttonEl.style.display =\n",
              "          google.colab.kernel.accessAllowed ? 'block' : 'none';\n",
              "\n",
              "        async function convertToInteractive(key) {\n",
              "          const element = document.querySelector('#df-65ef819f-4913-4a20-b09b-ba1496475628');\n",
              "          const dataTable =\n",
              "            await google.colab.kernel.invokeFunction('convertToInteractive',\n",
              "                                                     [key], {});\n",
              "          if (!dataTable) return;\n",
              "\n",
              "          const docLinkHtml = 'Like what you see? Visit the ' +\n",
              "            '<a target=\"_blank\" href=https://colab.research.google.com/notebooks/data_table.ipynb>data table notebook</a>'\n",
              "            + ' to learn more about interactive tables.';\n",
              "          element.innerHTML = '';\n",
              "          dataTable['output_type'] = 'display_data';\n",
              "          await google.colab.output.renderOutput(dataTable, element);\n",
              "          const docLink = document.createElement('div');\n",
              "          docLink.innerHTML = docLinkHtml;\n",
              "          element.appendChild(docLink);\n",
              "        }\n",
              "      </script>\n",
              "    </div>\n",
              "  </div>\n",
              "  "
            ]
          },
          "metadata": {},
          "execution_count": 5
        }
      ]
    },
    {
      "cell_type": "code",
      "source": [
        "# Convert the data frame to a list\n",
        "wk_ls = wk[\"wiki_link\"].tolist()"
      ],
      "metadata": {
        "id": "SpR3jkUvsHFm"
      },
      "execution_count": null,
      "outputs": []
    },
    {
      "cell_type": "code",
      "source": [
        "# Define a function to extract raw text data from a Wikipedia page\n",
        "def scrape_wiki(link):\n",
        "  try:\n",
        "    # Send an HTTP GET request to the link and retrieve the HTML content\n",
        "    response = requests.get(link, headers=user_agent)\n",
        "    html_content = response.content\n",
        "    \n",
        "    # Parse the HTML content\n",
        "    soup = BeautifulSoup(html_content, \"html.parser\")\n",
        "\n",
        "    # Extract text data\n",
        "    text = ''\n",
        "    for paragraph in soup.find_all('p'):\n",
        "      text += paragraph.text\n",
        "    \n",
        "    # Create a dictionary for storing text\n",
        "    return{\n",
        "        \"paragraph\": text\n",
        "    }\n",
        "  except:\n",
        "    return{\n",
        "        \"paragraph\": NAN\n",
        "    }"
      ],
      "metadata": {
        "id": "i40bDEcsq6CK"
      },
      "execution_count": null,
      "outputs": []
    },
    {
      "cell_type": "code",
      "source": [
        "# Loop through all Wikipedia links for extracting text data\n",
        "results = []\n",
        "for link in wk_ls:\n",
        "  results.append(scrape_wiki(link))"
      ],
      "metadata": {
        "id": "pQ_f8SbFqEjW"
      },
      "execution_count": null,
      "outputs": []
    },
    {
      "cell_type": "code",
      "source": [
        "# Convert the dictionary to a data frame\n",
        "wk_df = pd.DataFrame.from_dict(results)"
      ],
      "metadata": {
        "id": "b-Dn1iVhseJZ"
      },
      "execution_count": null,
      "outputs": []
    },
    {
      "cell_type": "code",
      "source": [
        "# Save the scraped raw text to a CSV file\n",
        "wk_df.to_csv(\"/content/drive/MyDrive/Priceline/JintongYu/wiki_raw.csv\")"
      ],
      "metadata": {
        "id": "-JhJ0xegetPt"
      },
      "execution_count": null,
      "outputs": []
    },
    {
      "cell_type": "code",
      "source": [
        "# Clean the raw text\n",
        "# For removing stopwords in text\n",
        "nltk.download('stopwords')\n",
        "nltk.download('wordnet')"
      ],
      "metadata": {
        "colab": {
          "base_uri": "https://localhost:8080/"
        },
        "id": "pIdFc2tywm0T",
        "outputId": "7a32447e-8d6d-4627-8aa2-9d92fef0a371"
      },
      "execution_count": null,
      "outputs": [
        {
          "output_type": "stream",
          "name": "stderr",
          "text": [
            "[nltk_data] Downloading package stopwords to /root/nltk_data...\n",
            "[nltk_data]   Unzipping corpora/stopwords.zip.\n",
            "[nltk_data] Downloading package wordnet to /root/nltk_data...\n"
          ]
        },
        {
          "output_type": "execute_result",
          "data": {
            "text/plain": [
              "True"
            ]
          },
          "metadata": {},
          "execution_count": 9
        }
      ]
    },
    {
      "cell_type": "code",
      "source": [
        "# Define a function for text cleaning that can be applied for a column in a data frame\n",
        "def clean_text(df, column):\n",
        "    \"\"\"\n",
        "    Preprocesses a text column in a pandas DataFrame.\n",
        "    \"\"\"\n",
        "    # Convert to lowercase\n",
        "    df[column] = df[column].str.lower()\n",
        "    \n",
        "    # Remove punctuation\n",
        "    df[column] = df[column].str.replace('[{}]'.format(string.punctuation), '')\n",
        "    \n",
        "    # Remove numbers\n",
        "    df[column] = df[column].str.replace('\\d+', '')\n",
        "\n",
        "    # Lemmatization\n",
        "    lemmatizer = WordNetLemmatizer()\n",
        "    df[column] = df[column].apply(lambda x: ' '.join([lemmatizer.lemmatize(word) for word in x.split()]))\n",
        "\n",
        "    # Remove stop words\n",
        "    nltk.download('stopwords')\n",
        "    stop_words = set(nltk.corpus.stopwords.words('english'))\n",
        "    df[column] = df[column].apply(lambda x: ' '.join([word for word in x.split() if word not in stop_words]))\n",
        "    \n",
        "    # Remove selected words --- this step is supposed to be modified for different use cases\n",
        "    df[column] = df[column].str.replace(' wa ', ' ')\n",
        "    df[column] = df[column].str.replace(' ha ', ' ')\n",
        "    df[column] = df[column].str.replace(' th ', ' ')\n",
        "    df[column] = df[column].str.replace(' km ', ' ')\n",
        "    df[column] = df[column].str.replace(' mile ', ' ')\n",
        "    df[column] = df[column].str.replace(' mi ', ' ')\n",
        "    df[column] = df[column].str.replace(' st ', ' ')\n",
        "    df[column] = df[column].str.replace('°c', ' ')\n",
        "    df[column] = df[column].str.replace('°f', ' ')\n",
        "    df[column] = df[column].str.replace(' also ', ' ')\n",
        "    #df[column] = df[column].str.replace('[^\\x01-\\x7F]', '') # Remove non-English characters\n",
        "\n",
        "    # Strip whitespace\n",
        "    df[column] = df[column].str.strip()\n",
        "\n",
        "    return df"
      ],
      "metadata": {
        "id": "hlrwttljvOjI"
      },
      "execution_count": null,
      "outputs": []
    },
    {
      "cell_type": "code",
      "source": [
        "# Apply the clean_text function to the raw text\n",
        "clean_text(wk_df, \"paragraph\")"
      ],
      "metadata": {
        "colab": {
          "base_uri": "https://localhost:8080/",
          "height": 533
        },
        "id": "5wJEAzr6QNHD",
        "outputId": "d247f0de-3fd4-49de-8ed3-c86b0a6ee00c"
      },
      "execution_count": null,
      "outputs": [
        {
          "output_type": "stream",
          "name": "stderr",
          "text": [
            "<ipython-input-51-6660f075362a>:10: FutureWarning: The default value of regex will change from True to False in a future version.\n",
            "  df[column] = df[column].str.replace('[{}]'.format(string.punctuation), '')\n",
            "<ipython-input-51-6660f075362a>:13: FutureWarning: The default value of regex will change from True to False in a future version.\n",
            "  df[column] = df[column].str.replace('\\d+', '')\n",
            "[nltk_data] Downloading package stopwords to /root/nltk_data...\n",
            "[nltk_data]   Package stopwords is already up-to-date!\n"
          ]
        },
        {
          "output_type": "execute_result",
          "data": {
            "text/plain": [
              "                                             paragraph\n",
              "0    caput mundi latinthe capital world rome italia...\n",
              "1    barcelona ˌbɑːrsəˈloʊnə listen barsəlohnə cata...\n",
              "2    istanbul ˌɪstænˈbʊl istanbuul u ˈɪstænbʊl ista...\n",
              "3    milan mɪˈlæn milan u mɪˈlɑːn milahn lombard mi...\n",
              "4    florence ˈflɒrəns florrənss italian firenze fi...\n",
              "..                                                 ...\n",
              "175  seoul soʊl korean sʰʌul listen lit capital off...\n",
              "176  busan korean pronunciation pusa̠n officially k...\n",
              "177  tokyo ˈtoʊkioʊ japanese 東京 tōkyō toːkʲoː liste...\n",
              "178  kyoto ˈkjoʊtoʊ japanese 京都 kyōto kʲoꜜːto liste...\n",
              "179  osaka japanese 大阪市 hepburn ōsakashi pronounced...\n",
              "\n",
              "[180 rows x 1 columns]"
            ],
            "text/html": [
              "\n",
              "  <div id=\"df-58026833-3e06-4512-9e18-a1bbb5f0e6e6\">\n",
              "    <div class=\"colab-df-container\">\n",
              "      <div>\n",
              "<style scoped>\n",
              "    .dataframe tbody tr th:only-of-type {\n",
              "        vertical-align: middle;\n",
              "    }\n",
              "\n",
              "    .dataframe tbody tr th {\n",
              "        vertical-align: top;\n",
              "    }\n",
              "\n",
              "    .dataframe thead th {\n",
              "        text-align: right;\n",
              "    }\n",
              "</style>\n",
              "<table border=\"1\" class=\"dataframe\">\n",
              "  <thead>\n",
              "    <tr style=\"text-align: right;\">\n",
              "      <th></th>\n",
              "      <th>paragraph</th>\n",
              "    </tr>\n",
              "  </thead>\n",
              "  <tbody>\n",
              "    <tr>\n",
              "      <th>0</th>\n",
              "      <td>caput mundi latinthe capital world rome italia...</td>\n",
              "    </tr>\n",
              "    <tr>\n",
              "      <th>1</th>\n",
              "      <td>barcelona ˌbɑːrsəˈloʊnə listen barsəlohnə cata...</td>\n",
              "    </tr>\n",
              "    <tr>\n",
              "      <th>2</th>\n",
              "      <td>istanbul ˌɪstænˈbʊl istanbuul u ˈɪstænbʊl ista...</td>\n",
              "    </tr>\n",
              "    <tr>\n",
              "      <th>3</th>\n",
              "      <td>milan mɪˈlæn milan u mɪˈlɑːn milahn lombard mi...</td>\n",
              "    </tr>\n",
              "    <tr>\n",
              "      <th>4</th>\n",
              "      <td>florence ˈflɒrəns florrənss italian firenze fi...</td>\n",
              "    </tr>\n",
              "    <tr>\n",
              "      <th>...</th>\n",
              "      <td>...</td>\n",
              "    </tr>\n",
              "    <tr>\n",
              "      <th>175</th>\n",
              "      <td>seoul soʊl korean sʰʌul listen lit capital off...</td>\n",
              "    </tr>\n",
              "    <tr>\n",
              "      <th>176</th>\n",
              "      <td>busan korean pronunciation pusa̠n officially k...</td>\n",
              "    </tr>\n",
              "    <tr>\n",
              "      <th>177</th>\n",
              "      <td>tokyo ˈtoʊkioʊ japanese 東京 tōkyō toːkʲoː liste...</td>\n",
              "    </tr>\n",
              "    <tr>\n",
              "      <th>178</th>\n",
              "      <td>kyoto ˈkjoʊtoʊ japanese 京都 kyōto kʲoꜜːto liste...</td>\n",
              "    </tr>\n",
              "    <tr>\n",
              "      <th>179</th>\n",
              "      <td>osaka japanese 大阪市 hepburn ōsakashi pronounced...</td>\n",
              "    </tr>\n",
              "  </tbody>\n",
              "</table>\n",
              "<p>180 rows × 1 columns</p>\n",
              "</div>\n",
              "      <button class=\"colab-df-convert\" onclick=\"convertToInteractive('df-58026833-3e06-4512-9e18-a1bbb5f0e6e6')\"\n",
              "              title=\"Convert this dataframe to an interactive table.\"\n",
              "              style=\"display:none;\">\n",
              "        \n",
              "  <svg xmlns=\"http://www.w3.org/2000/svg\" height=\"24px\"viewBox=\"0 0 24 24\"\n",
              "       width=\"24px\">\n",
              "    <path d=\"M0 0h24v24H0V0z\" fill=\"none\"/>\n",
              "    <path d=\"M18.56 5.44l.94 2.06.94-2.06 2.06-.94-2.06-.94-.94-2.06-.94 2.06-2.06.94zm-11 1L8.5 8.5l.94-2.06 2.06-.94-2.06-.94L8.5 2.5l-.94 2.06-2.06.94zm10 10l.94 2.06.94-2.06 2.06-.94-2.06-.94-.94-2.06-.94 2.06-2.06.94z\"/><path d=\"M17.41 7.96l-1.37-1.37c-.4-.4-.92-.59-1.43-.59-.52 0-1.04.2-1.43.59L10.3 9.45l-7.72 7.72c-.78.78-.78 2.05 0 2.83L4 21.41c.39.39.9.59 1.41.59.51 0 1.02-.2 1.41-.59l7.78-7.78 2.81-2.81c.8-.78.8-2.07 0-2.86zM5.41 20L4 18.59l7.72-7.72 1.47 1.35L5.41 20z\"/>\n",
              "  </svg>\n",
              "      </button>\n",
              "      \n",
              "  <style>\n",
              "    .colab-df-container {\n",
              "      display:flex;\n",
              "      flex-wrap:wrap;\n",
              "      gap: 12px;\n",
              "    }\n",
              "\n",
              "    .colab-df-convert {\n",
              "      background-color: #E8F0FE;\n",
              "      border: none;\n",
              "      border-radius: 50%;\n",
              "      cursor: pointer;\n",
              "      display: none;\n",
              "      fill: #1967D2;\n",
              "      height: 32px;\n",
              "      padding: 0 0 0 0;\n",
              "      width: 32px;\n",
              "    }\n",
              "\n",
              "    .colab-df-convert:hover {\n",
              "      background-color: #E2EBFA;\n",
              "      box-shadow: 0px 1px 2px rgba(60, 64, 67, 0.3), 0px 1px 3px 1px rgba(60, 64, 67, 0.15);\n",
              "      fill: #174EA6;\n",
              "    }\n",
              "\n",
              "    [theme=dark] .colab-df-convert {\n",
              "      background-color: #3B4455;\n",
              "      fill: #D2E3FC;\n",
              "    }\n",
              "\n",
              "    [theme=dark] .colab-df-convert:hover {\n",
              "      background-color: #434B5C;\n",
              "      box-shadow: 0px 1px 3px 1px rgba(0, 0, 0, 0.15);\n",
              "      filter: drop-shadow(0px 1px 2px rgba(0, 0, 0, 0.3));\n",
              "      fill: #FFFFFF;\n",
              "    }\n",
              "  </style>\n",
              "\n",
              "      <script>\n",
              "        const buttonEl =\n",
              "          document.querySelector('#df-58026833-3e06-4512-9e18-a1bbb5f0e6e6 button.colab-df-convert');\n",
              "        buttonEl.style.display =\n",
              "          google.colab.kernel.accessAllowed ? 'block' : 'none';\n",
              "\n",
              "        async function convertToInteractive(key) {\n",
              "          const element = document.querySelector('#df-58026833-3e06-4512-9e18-a1bbb5f0e6e6');\n",
              "          const dataTable =\n",
              "            await google.colab.kernel.invokeFunction('convertToInteractive',\n",
              "                                                     [key], {});\n",
              "          if (!dataTable) return;\n",
              "\n",
              "          const docLinkHtml = 'Like what you see? Visit the ' +\n",
              "            '<a target=\"_blank\" href=https://colab.research.google.com/notebooks/data_table.ipynb>data table notebook</a>'\n",
              "            + ' to learn more about interactive tables.';\n",
              "          element.innerHTML = '';\n",
              "          dataTable['output_type'] = 'display_data';\n",
              "          await google.colab.output.renderOutput(dataTable, element);\n",
              "          const docLink = document.createElement('div');\n",
              "          docLink.innerHTML = docLinkHtml;\n",
              "          element.appendChild(docLink);\n",
              "        }\n",
              "      </script>\n",
              "    </div>\n",
              "  </div>\n",
              "  "
            ]
          },
          "metadata": {},
          "execution_count": 53
        }
      ]
    },
    {
      "cell_type": "code",
      "source": [
        "# Save the cleaned text to a csv file\n",
        "wk_df.to_csv(\"/content/drive/MyDrive/Priceline/JintongYu/wiki_cleaned.csv\")"
      ],
      "metadata": {
        "id": "Rq8HFBvZQoCr"
      },
      "execution_count": null,
      "outputs": []
    }
  ]
}